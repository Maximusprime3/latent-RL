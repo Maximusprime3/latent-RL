{
 "cells": [
  {
   "cell_type": "code",
   "execution_count": 1,
   "id": "0ebffa34",
   "metadata": {},
   "outputs": [],
   "source": [
    "import time\n",
    "import os\n",
    "import torch\n",
    "from torchvision import transforms\n",
    "import random\n",
    "import numpy as np\n",
    "import yaml\n",
    "from PIL import Image\n",
    "from experiment import VAEXperiment\n",
    "from models import *\n",
    "\n",
    "\n",
    "import gymnasium as gym\n",
    "from gymnasium import ObservationWrapper\n",
    "from gymnasium.wrappers import PixelObservationWrapper, FrameStack\n",
    "from gymnasium.spaces import Box, Discrete\n",
    "\n",
    "\n",
    "\n",
    "from stable_baselines3 import SAC, PPO, A2C\n",
    "from stable_baselines3.common.monitor import Monitor\n",
    "from stable_baselines3.common.vec_env import DummyVecEnv\n",
    "from stable_baselines3.common.callbacks import CallbackList, CheckpointCallback, EvalCallback\n",
    "from stable_baselines3.common.monitor import Monitor\n",
    "from stable_baselines3.common.env_util import make_vec_env\n",
    "from stable_baselines3.common.evaluation import evaluate_policy"
   ]
  },
  {
   "cell_type": "code",
   "execution_count": 2,
   "id": "742af501",
   "metadata": {},
   "outputs": [],
   "source": [
    "from gymnasium import ObservationWrapper\n",
    "from gymnasium.wrappers import PixelObservationWrapper, FrameStack\n",
    "from gymnasium.spaces import Box, Discrete\n",
    "import numpy as np\n",
    "import yaml\n",
    "from experiment import VAEXperiment\n",
    "from models import *\n",
    "import torch\n",
    "from torchvision import transforms\n",
    "from stable_baselines3.common.monitor import Monitor\n",
    "from stable_baselines3.common.vec_env import DummyVecEnv\n",
    "\n",
    "class AddGaussianNoise(object):\n",
    "    def __init__(self, mean=0., std=0.1):\n",
    "        self.std = std\n",
    "        self.mean = mean\n",
    "        \n",
    "    def __call__(self, tensor):\n",
    "        return tensor + torch.randn(tensor.size()) * self.std + self.mean\n",
    "    \n",
    "    def __repr__(self):\n",
    "        return self.__class__.__name__ + '(mean={0}, std={1})'.format(self.mean, self.std)\n",
    "\n",
    "#ideas\n",
    "#maybe use wrapper to catch and save frames during RL model learning\n",
    "#alternative is to use the model afterwards to generate frames during a test run\n",
    "#\n",
    "#??return mu, std or sample or just mu??\n",
    "#\n",
    "class VAE_ENC(ObservationWrapper):\n",
    "    def __init__(self, env, vae, latent_dim,\n",
    "                 mean=0,std=0.1,\n",
    "                 size=(64,64)):\n",
    "        super().__init__(env)\n",
    "        #new obs space with std\n",
    "        #self.observation_space = Box(shape=(2, latent_dim), low=-np.inf, high=np.inf)\n",
    "        #just mean\n",
    "        self.observation_space = Box(shape=(latent_dim,), low=-np.inf, high=np.inf)\n",
    "        \n",
    "        self.vae = vae\n",
    "        #transforms\n",
    "        self.mean = mean\n",
    "        self.std = std\n",
    "        self.size = size\n",
    "        \n",
    "        \n",
    "        \n",
    "    def observation(self, obs):\n",
    "        #get frame\n",
    "        #print(obs)\n",
    "        frame = obs['pixels']#.to('cuda')\n",
    "        #transform for VAE\n",
    "        val_transforms = transforms.Compose([transforms.ToTensor(),\n",
    "        #transforms.RandomHorizontalFlip(),\n",
    "        AddGaussianNoise(self.mean, self.std),\n",
    "        transforms.Resize(self.size),\n",
    "        #transforms.Grayscale(),\n",
    "        #transforms.Normalize(self.mean, self.std),\n",
    "        ])\n",
    "        frame = val_transforms(frame) #(c,h,w)\n",
    "        frame = torch.unsqueeze(frame, 0)#.to(self.device) #make it (1,c,h,w)\n",
    "        enc = self.vae.encode(frame)    \n",
    "        enc = np.array([tensor.detach().cpu().numpy() for tensor in enc])\n",
    "        #with std\n",
    "        #enc = np.array([enc[0][0], enc[1][0]]) ## mu, std #  give only mu?\n",
    "        #just mean\n",
    "        enc = np.array(enc[0][0])\n",
    "        return enc\n",
    "    \n",
    "def get_vae(version='version_0',log_directory='logs/BCE_sum_VAE/MSSIMVAE/'):\n",
    "\n",
    "    model_path=log_directory+'/'+version+'/hparams.yaml'\n",
    "    ckpt_path=log_directory+'/'+version+'/checkpoints/last.ckpt'\n",
    "\n",
    "    config = yaml.safe_load(open(model_path))\n",
    "    model = vae_models[config['model_params']['name']](**config['model_params'])\n",
    "    ckpt = torch.load(ckpt_path)\n",
    "    experiment = VAEXperiment(model, config['exp_params'])\n",
    "    experiment.load_state_dict(ckpt['state_dict'])      \n",
    "    vae = experiment.model\n",
    "    return vae"
   ]
  },
  {
   "cell_type": "code",
   "execution_count": 3,
   "id": "3814923c",
   "metadata": {},
   "outputs": [],
   "source": [
    "data_name='init3_random'\n",
    "save_path='Data/MountainCar/'+data_name+'/'\n",
    "\n",
    "\n",
    "env = gym.make(\"MountainCarContinuous-v0\",\n",
    "                render_mode ='rgb_array')\n",
    "\n",
    "num_of_episodes=10\n",
    "i=0\n",
    "for episode in range(num_of_episodes):\n",
    "    observation, info = env.reset()\n",
    "    done = False\n",
    "    while not done: \n",
    "        action= env.env.action_space.sample()\n",
    "        observation, reward, terminated, truncated, info = env.step(action)\n",
    "        #state, reward, terminated, truncated, info = env.step(action)\n",
    "        #print(terminated, truncated)\n",
    "        if terminated:\n",
    "            done = True\n",
    "        if truncated:\n",
    "            done = True\n",
    "        current_frame = env.render()\n",
    "\n",
    "        i+=1\n",
    "        im = Image.fromarray(np.array(current_frame))\n",
    "        im.save(save_path+data_name+'_'+str(i)+'.jpeg')"
   ]
  },
  {
   "cell_type": "code",
   "execution_count": 8,
   "id": "f906ebb3",
   "metadata": {},
   "outputs": [],
   "source": []
  },
  {
   "cell_type": "code",
   "execution_count": 36,
   "id": "25b42004",
   "metadata": {},
   "outputs": [],
   "source": [
    "vae = get_vae(version='version_13',log_directory='logs/MountainCar/BCE_sum_VAE_2/MSSIMVAE/')"
   ]
  },
  {
   "cell_type": "code",
   "execution_count": 37,
   "id": "2896f2c5",
   "metadata": {},
   "outputs": [],
   "source": [
    "env = gym.make(\"MountainCarContinuous-v0\",\n",
    "                render_mode ='rgb_array')\n",
    "seed = 42\n",
    "env.reset(seed=seed)\n",
    "env = PixelObservationWrapper(env)\n",
    "env = VAE_ENC(env, vae, 2)\n",
    "env = FrameStack(env, num_stack=2)\n",
    "env = Monitor(env)\n"
   ]
  },
  {
   "cell_type": "code",
   "execution_count": 38,
   "id": "a4816106",
   "metadata": {},
   "outputs": [],
   "source": [
    "agent_name = \"vae_2_v13_agent_3_A2C_best_agent_data\"\n",
    "\n",
    "env_name = \"MountainCarContinuous-v0\"\n",
    "\n",
    "models_dir = f\"RLmodels/\"+env_name+'/'+agent_name\n",
    "logdir = f\"RLlogs/\"+env_name+'/vae_A2C'\n",
    "\n",
    "RL_train_steps = 1000000\n",
    "\n",
    "callback = CheckpointCallback(save_freq=10000, save_path=models_dir) "
   ]
  },
  {
   "cell_type": "code",
   "execution_count": 39,
   "id": "77ead845",
   "metadata": {},
   "outputs": [],
   "source": [
    "# Tuned\n",
    "agent = A2C(\n",
    "\n",
    "    env = env,\n",
    "    n_steps= 100,\n",
    "    \n",
    "    policy='MlpPolicy',\n",
    "    ent_coef= 0.0,\n",
    "    use_sde=True,\n",
    "    sde_sample_freq = 16,\n",
    "    policy_kwargs= dict(log_std_init=0.0, ortho_init=False),\n",
    "    tensorboard_log=logdir)"
   ]
  },
  {
   "cell_type": "code",
   "execution_count": 40,
   "id": "6cbaa067",
   "metadata": {},
   "outputs": [
    {
     "data": {
      "text/plain": [
       "<stable_baselines3.a2c.a2c.A2C at 0x7fa544cc26d0>"
      ]
     },
     "execution_count": 40,
     "metadata": {},
     "output_type": "execute_result"
    }
   ],
   "source": [
    "agent.learn(total_timesteps=RL_train_steps, \n",
    "            callback=callback,\n",
    "            tb_log_name=agent_name)"
   ]
  },
  {
   "cell_type": "code",
   "execution_count": null,
   "id": "ad341dd4",
   "metadata": {},
   "outputs": [],
   "source": []
  },
  {
   "cell_type": "code",
   "execution_count": null,
   "id": "1c361f3a",
   "metadata": {},
   "outputs": [],
   "source": []
  },
  {
   "cell_type": "code",
   "execution_count": 4,
   "id": "7e02fc56",
   "metadata": {},
   "outputs": [
    {
     "name": "stdout",
     "output_type": "stream",
     "text": [
      "50\n"
     ]
    }
   ],
   "source": [
    "from pathlib import Path\n",
    "\n",
    "agent_name = \"vae_2_v11_agent_1_A2C_long\"\n",
    "\n",
    "env_name = \"MountainCarContinuous-v0\"\n",
    "\n",
    "models_dir = f\"RLmodels/\"+env_name+'/'+agent_name\n",
    "model_dir = Path(models_dir)\n",
    "model_list = sorted([f for f in model_dir.iterdir() if f.suffix == '.zip'])\n",
    "print(len(model_list))"
   ]
  },
  {
   "cell_type": "code",
   "execution_count": 10,
   "id": "70301bd6",
   "metadata": {},
   "outputs": [
    {
     "data": {
      "text/plain": [
       "'rl_model_100000_steps'"
      ]
     },
     "execution_count": 10,
     "metadata": {},
     "output_type": "execute_result"
    }
   ],
   "source": [
    "str(model_list[0])[55:-4]"
   ]
  },
  {
   "cell_type": "code",
   "execution_count": 11,
   "id": "74dcd32b",
   "metadata": {},
   "outputs": [
    {
     "data": {
      "text/plain": [
       "PosixPath('RLmodels/MountainCarContinuous-v0/vae_2_v6_agent_3_A2C/rl_model_100000_steps.zip')"
      ]
     },
     "execution_count": 11,
     "metadata": {},
     "output_type": "execute_result"
    }
   ],
   "source": [
    "model_list[0]"
   ]
  },
  {
   "cell_type": "code",
   "execution_count": 12,
   "id": "e836fa66",
   "metadata": {},
   "outputs": [
    {
     "name": "stdout",
     "output_type": "stream",
     "text": [
      "rl_model_100000_steps\n",
      "rl_model_10000_steps\n",
      "rl_model_20000_steps\n",
      "rl_model_30000_steps\n",
      "rl_model_40000_steps\n",
      "rl_model_50000_steps\n",
      "rl_model_60000_steps\n",
      "rl_model_70000_steps\n",
      "rl_model_80000_steps\n",
      "rl_model_90000_steps\n"
     ]
    }
   ],
   "source": [
    "iteration = '3'\n",
    "\n",
    "for model in model_list:\n",
    "    model = str(model)[55:-4] #[43:-4]\n",
    "    print(model)\n",
    "    agent= PPO.load(models_dir+'/'+model)\n",
    "    #save_path='Data/MountainCar/vae_A2C_'+iteration+'_rl_model'\n",
    "    data_name='vae_A2C_'+iteration+'_'+model+'_'\n",
    "    num_of_episodes=8\n",
    "    i=0\n",
    "    for episode in range(num_of_episodes):\n",
    "        observation, info = env.reset()\n",
    "        done = False\n",
    "        while not done: \n",
    "            action, _states = agent.predict(observation, deterministic=True)\n",
    "            observation, reward, terminated, truncated, info = env.step(action)\n",
    "            #state, reward, terminated, truncated, info = env.step(action)\n",
    "            #print(terminated, truncated)\n",
    "            if terminated:\n",
    "                done = True\n",
    "            if truncated:\n",
    "                done = True\n",
    "            current_frame = env.render()\n",
    "\n",
    "            i+=1\n",
    "            im = Image.fromarray(np.array(current_frame))\n",
    "            im.save('Data/MountainCar/init_random/'+data_name+'_'+str(i)+'.jpeg')"
   ]
  },
  {
   "cell_type": "code",
   "execution_count": 33,
   "id": "94355c34",
   "metadata": {},
   "outputs": [
    {
     "name": "stdout",
     "output_type": "stream",
     "text": [
      "rl_model_660000_steps\n"
     ]
    }
   ],
   "source": [
    "model = 'rl_model_660000_steps'\n",
    "agent_name = \"vae_2_v12_agent_2_A2C_long\"\n",
    "\n",
    "env_name = \"MountainCarContinuous-v0\"\n",
    "\n",
    "models_dir = f\"RLmodels/\"+env_name+'/'+agent_name\n",
    "\n",
    "iteration = '2'\n",
    "print(model)\n",
    "agent= PPO.load(models_dir+'/'+model)\n",
    "#save_path='Data/MountainCar/vae_A2C_'+iteration+'_rl_model'\n",
    "data_name='vae_A2C_'+iteration+'_'+model+'_'\n",
    "\n",
    "\n",
    "num_of_episodes=80\n",
    "\n",
    "num_of_img=9990\n",
    "i=0\n",
    "for episode in range(num_of_episodes):\n",
    "    observation, info = env.reset()\n",
    "    done = False\n",
    "    while not done: \n",
    "        action, _states = agent.predict(observation, deterministic=True)\n",
    "        observation, reward, terminated, truncated, info = env.step(action)\n",
    "        #state, reward, terminated, truncated, info = env.step(action)\n",
    "        #print(terminated, truncated)\n",
    "        if terminated:\n",
    "            done = True\n",
    "        if truncated:\n",
    "            done = True\n",
    "        current_frame = env.render()\n",
    "\n",
    "        i+=1\n",
    "        im = Image.fromarray(np.array(current_frame))\n",
    "        im.save('Data/MountainCar/init3_agent_2_v12/'+data_name+'_'+str(i)+'.jpeg')\n",
    "        if i == num_of_img:\n",
    "            break"
   ]
  },
  {
   "cell_type": "code",
   "execution_count": null,
   "id": "b9118580",
   "metadata": {},
   "outputs": [],
   "source": []
  },
  {
   "cell_type": "code",
   "execution_count": 13,
   "id": "cdf68ac7",
   "metadata": {},
   "outputs": [
    {
     "name": "stdout",
     "output_type": "stream",
     "text": [
      "9990\n"
     ]
    }
   ],
   "source": [
    "from pathlib import Path\n",
    "imgs_dir =\"Data/MountainCar/init3_random\"\n",
    "img_dir = Path(imgs_dir)\n",
    "img_list = sorted([f for f in img_dir.iterdir() if f.suffix == '.jpeg'])\n",
    "print(len(img_list))"
   ]
  },
  {
   "cell_type": "code",
   "execution_count": null,
   "id": "c919d4b2",
   "metadata": {},
   "outputs": [],
   "source": [
    "\n",
    "i=0\n",
    "for imp in img_list:\n",
    "    im = Image.open(r\"C:\\Users\\System-Pc\\Desktop\\ybear.jpg\") \n",
    "    im.save('Data/MountainCar/init3_random_and_agent_0/'+data_name+'_'+str(i)+'.jpeg')\n",
    "    i+=1"
   ]
  }
 ],
 "metadata": {
  "kernelspec": {
   "display_name": "Python 3 (ipykernel)",
   "language": "python",
   "name": "python3"
  },
  "language_info": {
   "codemirror_mode": {
    "name": "ipython",
    "version": 3
   },
   "file_extension": ".py",
   "mimetype": "text/x-python",
   "name": "python",
   "nbconvert_exporter": "python",
   "pygments_lexer": "ipython3",
   "version": "3.9.16"
  }
 },
 "nbformat": 4,
 "nbformat_minor": 5
}
