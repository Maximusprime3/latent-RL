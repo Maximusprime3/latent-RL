{
 "cells": [
  {
   "cell_type": "code",
   "execution_count": 7,
   "id": "a34d662d",
   "metadata": {},
   "outputs": [],
   "source": [
    "from packaging import version\n",
    "\n",
    "import pandas as pd\n",
    "from matplotlib import pyplot as plt\n",
    "import seaborn as sns\n",
    "from scipy import stats\n",
    "import tensorboard as tb\n",
    "from stable_baselines3 import SAC, PPO, A2C\n",
    "\n",
    "import os\n",
    "import sys\n",
    "import time\n",
    "import subprocess\n",
    "from PIL import Image\n",
    "import numpy as np\n",
    "import torch\n",
    "import yaml\n",
    "from torchvision import transforms\n",
    "from experiment import VAEXperiment\n",
    "from models import *\n",
    "\n",
    "import gymnasium as gym\n",
    "from gymnasium import ObservationWrapper\n",
    "from gymnasium.wrappers import PixelObservationWrapper, FrameStack\n",
    "from gymnasium.spaces import Box, Discrete\n",
    "\n",
    "from stable_baselines3 import SAC, PPO, A2C\n",
    "from stable_baselines3.common.monitor import Monitor\n",
    "from stable_baselines3.common.vec_env import DummyVecEnv, SubprocVecEnv\n",
    "from stable_baselines3.common.utils import set_random_seed\n",
    "from stable_baselines3.common.callbacks import CallbackList, CheckpointCallback, EvalCallback\n",
    "from stable_baselines3.common.monitor import Monitor\n",
    "from stable_baselines3.common.evaluation import evaluate_policy"
   ]
  },
  {
   "cell_type": "code",
   "execution_count": 58,
   "id": "d2171914",
   "metadata": {},
   "outputs": [
    {
     "name": "stdout",
     "output_type": "stream",
     "text": [
      "      step                  tag       value\n",
      "0     1008  rollout/ep_len_mean  999.000000\n",
      "1     1016  rollout/ep_len_mean  999.000000\n",
      "2     1024  rollout/ep_len_mean  999.000000\n",
      "3     1032  rollout/ep_len_mean  999.000000\n",
      "4     1040  rollout/ep_len_mean  999.000000\n",
      "...    ...                  ...         ...\n",
      "3248  2976     train/value_loss    0.000313\n",
      "3249  2984     train/value_loss    0.000090\n",
      "3250  2992     train/value_loss    0.000022\n",
      "3251  3000     train/value_loss    0.000013\n",
      "3252  3008     train/value_loss    0.000011\n",
      "\n",
      "[3253 rows x 3 columns]\n"
     ]
    }
   ],
   "source": [
    "from tbparse import SummaryReader\n",
    "log_dir = \"RLmodels/MountainCarContinuous-v0/Double_loop/logs/BCE_VAE_l3_test2_PPO_v1__0vae_resets__0rl_resets___0\"\n",
    "reader = SummaryReader(log_dir)\n",
    "df = reader.scalars\n",
    "print(df)"
   ]
  },
  {
   "cell_type": "code",
   "execution_count": 55,
   "id": "2dcaba2b",
   "metadata": {},
   "outputs": [],
   "source": [
    "tags = pd.DataFrame()\n",
    "tags = df.groupby(['tag'])"
   ]
  },
  {
   "cell_type": "code",
   "execution_count": 59,
   "id": "05790d3f",
   "metadata": {},
   "outputs": [
    {
     "name": "stdout",
     "output_type": "stream",
     "text": [
      "('rollout/ep_len_mean',)\n",
      "     step                  tag  value\n",
      "0    3016  rollout/ep_len_mean  999.0\n",
      "1    3024  rollout/ep_len_mean  999.0\n",
      "2    3032  rollout/ep_len_mean  999.0\n",
      "3    3040  rollout/ep_len_mean  999.0\n",
      "4    3048  rollout/ep_len_mean  999.0\n",
      "..    ...                  ...    ...\n",
      "497  6992  rollout/ep_len_mean  999.0\n",
      "498  7000  rollout/ep_len_mean  999.0\n",
      "499  7008  rollout/ep_len_mean  999.0\n",
      "500  7016  rollout/ep_len_mean  999.0\n",
      "501  7024  rollout/ep_len_mean  999.0\n",
      "\n",
      "[502 rows x 3 columns]\n",
      "('rollout/ep_rew_mean',)\n",
      "      step                  tag      value\n",
      "502   3016  rollout/ep_rew_mean  -7.563651\n",
      "503   3024  rollout/ep_rew_mean  -7.563651\n",
      "504   3032  rollout/ep_rew_mean  -7.563651\n",
      "505   3040  rollout/ep_rew_mean  -7.563651\n",
      "506   3048  rollout/ep_rew_mean  -7.563651\n",
      "...    ...                  ...        ...\n",
      "999   6992  rollout/ep_rew_mean -12.573076\n",
      "1000  7000  rollout/ep_rew_mean -12.573076\n",
      "1001  7008  rollout/ep_rew_mean -14.787804\n",
      "1002  7016  rollout/ep_rew_mean -14.787804\n",
      "1003  7024  rollout/ep_rew_mean -14.787804\n",
      "\n",
      "[502 rows x 3 columns]\n",
      "('time/fps',)\n",
      "('train/approx_kl',)\n",
      "('train/clip_fraction',)\n",
      "('train/clip_range',)\n",
      "('train/entropy_loss',)\n",
      "('train/explained_variance',)\n",
      "('train/learning_rate',)\n",
      "('train/loss',)\n",
      "('train/policy_gradient_loss',)\n",
      "('train/std',)\n",
      "('train/value_loss',)\n"
     ]
    }
   ],
   "source": [
    "for key, group in tags:\n",
    "    print(key)\n",
    "    if key == ('rollout/ep_len_mean',):\n",
    "        ep_len = group\n",
    "        print(ep_len)\n",
    "    if key == ('rollout/ep_rew_mean',):\n",
    "        ep_rew = group\n",
    "        print(ep_rew)"
   ]
  },
  {
   "cell_type": "code",
   "execution_count": 50,
   "id": "dbd989c7",
   "metadata": {},
   "outputs": [
    {
     "data": {
      "text/plain": [
       "1   -3.531628\n",
       "Name: value, dtype: float64"
      ]
     },
     "execution_count": 50,
     "metadata": {},
     "output_type": "execute_result"
    }
   ],
   "source": [
    "ep_rew['value']"
   ]
  },
  {
   "cell_type": "code",
   "execution_count": 60,
   "id": "3a43c2fe",
   "metadata": {},
   "outputs": [
    {
     "data": {
      "text/plain": [
       "[<matplotlib.lines.Line2D at 0x7fac76128220>]"
      ]
     },
     "execution_count": 60,
     "metadata": {},
     "output_type": "execute_result"
    },
    {
     "data": {
      "image/png": "[encoded data removed]",
      "text/plain": [
       "<Figure size 640x480 with 1 Axes>"
      ]
     },
     "metadata": {},
     "output_type": "display_data"
    }
   ],
   "source": [
    "plt.plot(ep_rew['value'])"
   ]
  },
  {
   "cell_type": "code",
   "execution_count": 3,
   "id": "bf793f66",
   "metadata": {},
   "outputs": [],
   "source": [
    "def eval_agent(agent, env, n_eval_episodes):\n",
    "    total_rewards = []\n",
    "    device = 'cpu'\n",
    "    policy = agent.policy.to(device)  # Move observation to the same device as the model\n",
    "    observation_space = env.observation_space\n",
    "    print('observation space:', observation_space)\n",
    "    \n",
    "    for episode in range(n_eval_episodes):\n",
    "        observation, info = env.reset()\n",
    "        \n",
    "        episode_reward = 0\n",
    "        done = False\n",
    "\n",
    "        while not done: \n",
    "            \n",
    "            action = policy.predict(observation, deterministic=True)\n",
    "            #print(action)\n",
    "            observation, reward, terminated, truncated, info = env.step(action[0])\n",
    "           \n",
    "            observation =observation.reshape(2)\n",
    "            if not observation_space.contains(observation):\n",
    "                print(\"Observation is not valid:\", observation)\n",
    "            episode_reward += reward\n",
    "            if terminated:\n",
    "                done = True\n",
    "            if truncated:\n",
    "                done = True                   \n",
    "\n",
    "        total_rewards.append(episode_reward)\n",
    "\n",
    "    total_rewards = np.array(total_rewards)\n",
    "    \n",
    "    agent.policy.to('cuda')\n",
    "    return np.mean(total_rewards), np.std(total_rewards), total_rewards"
   ]
  },
  {
   "cell_type": "code",
   "execution_count": 12,
   "id": "8a05ff38",
   "metadata": {},
   "outputs": [],
   "source": [
    "#agent_dir = 'RLmodels/MountainCarContinuous-v0/PPO_tuned_OG/PPO_tuned_OG3.zip'\n",
    "#agent = PPO.load(agent_dir)\n",
    "\n",
    "        #make env\n",
    "env = gym.make(\"MountainCarContinuous-v0\",\n",
    "                    render_mode ='rgb_array')"
   ]
  },
  {
   "cell_type": "code",
   "execution_count": 135,
   "id": "9d0ce12b",
   "metadata": {},
   "outputs": [
    {
     "name": "stdout",
     "output_type": "stream",
     "text": [
      "observation space: Box([-1.2  -0.07], [0.6  0.07], (2,), float32)\n"
     ]
    },
    {
     "ename": "KeyboardInterrupt",
     "evalue": "",
     "output_type": "error",
     "traceback": [
      "\u001b[0;31m---------------------------------------------------------------------------\u001b[0m",
      "\u001b[0;31mKeyboardInterrupt\u001b[0m                         Traceback (most recent call last)",
      "Cell \u001b[0;32mIn[135], line 1\u001b[0m\n\u001b[0;32m----> 1\u001b[0m rweard, std, alle \u001b[38;5;241m=\u001b[39m \u001b[43meval_agent\u001b[49m\u001b[43m(\u001b[49m\u001b[43magent\u001b[49m\u001b[43m,\u001b[49m\u001b[43m \u001b[49m\u001b[43menv\u001b[49m\u001b[43m,\u001b[49m\u001b[38;5;241;43m1000\u001b[39;49m\u001b[43m)\u001b[49m\n",
      "Cell \u001b[0;32mIn[114], line 16\u001b[0m, in \u001b[0;36meval_agent\u001b[0;34m(agent, env, n_eval_episodes)\u001b[0m\n\u001b[1;32m     12\u001b[0m done \u001b[38;5;241m=\u001b[39m \u001b[38;5;28;01mFalse\u001b[39;00m\n\u001b[1;32m     14\u001b[0m \u001b[38;5;28;01mwhile\u001b[39;00m \u001b[38;5;129;01mnot\u001b[39;00m done: \n\u001b[0;32m---> 16\u001b[0m     action \u001b[38;5;241m=\u001b[39m \u001b[43mpolicy\u001b[49m\u001b[38;5;241;43m.\u001b[39;49m\u001b[43mpredict\u001b[49m\u001b[43m(\u001b[49m\u001b[43mobservation\u001b[49m\u001b[43m,\u001b[49m\u001b[43m \u001b[49m\u001b[43mdeterministic\u001b[49m\u001b[38;5;241;43m=\u001b[39;49m\u001b[38;5;28;43;01mTrue\u001b[39;49;00m\u001b[43m)\u001b[49m\n\u001b[1;32m     17\u001b[0m     \u001b[38;5;66;03m#print(action)\u001b[39;00m\n\u001b[1;32m     18\u001b[0m     observation, reward, terminated, truncated, info \u001b[38;5;241m=\u001b[39m env\u001b[38;5;241m.\u001b[39mstep(action[\u001b[38;5;241m0\u001b[39m])\n",
      "File \u001b[0;32m~/miniconda3/envs/both/lib/python3.9/site-packages/stable_baselines3/common/policies.py:349\u001b[0m, in \u001b[0;36mBasePolicy.predict\u001b[0;34m(self, observation, state, episode_start, deterministic)\u001b[0m\n\u001b[1;32m    346\u001b[0m observation, vectorized_env \u001b[38;5;241m=\u001b[39m \u001b[38;5;28mself\u001b[39m\u001b[38;5;241m.\u001b[39mobs_to_tensor(observation)\n\u001b[1;32m    348\u001b[0m \u001b[38;5;28;01mwith\u001b[39;00m th\u001b[38;5;241m.\u001b[39mno_grad():\n\u001b[0;32m--> 349\u001b[0m     actions \u001b[38;5;241m=\u001b[39m \u001b[38;5;28;43mself\u001b[39;49m\u001b[38;5;241;43m.\u001b[39;49m\u001b[43m_predict\u001b[49m\u001b[43m(\u001b[49m\u001b[43mobservation\u001b[49m\u001b[43m,\u001b[49m\u001b[43m \u001b[49m\u001b[43mdeterministic\u001b[49m\u001b[38;5;241;43m=\u001b[39;49m\u001b[43mdeterministic\u001b[49m\u001b[43m)\u001b[49m\n\u001b[1;32m    350\u001b[0m \u001b[38;5;66;03m# Convert to numpy, and reshape to the original action shape\u001b[39;00m\n\u001b[1;32m    351\u001b[0m actions \u001b[38;5;241m=\u001b[39m actions\u001b[38;5;241m.\u001b[39mcpu()\u001b[38;5;241m.\u001b[39mnumpy()\u001b[38;5;241m.\u001b[39mreshape((\u001b[38;5;241m-\u001b[39m\u001b[38;5;241m1\u001b[39m, \u001b[38;5;241m*\u001b[39m\u001b[38;5;28mself\u001b[39m\u001b[38;5;241m.\u001b[39maction_space\u001b[38;5;241m.\u001b[39mshape))\n",
      "File \u001b[0;32m~/miniconda3/envs/both/lib/python3.9/site-packages/stable_baselines3/common/policies.py:679\u001b[0m, in \u001b[0;36mActorCriticPolicy._predict\u001b[0;34m(self, observation, deterministic)\u001b[0m\n\u001b[1;32m    671\u001b[0m \u001b[38;5;28;01mdef\u001b[39;00m \u001b[38;5;21m_predict\u001b[39m(\u001b[38;5;28mself\u001b[39m, observation: th\u001b[38;5;241m.\u001b[39mTensor, deterministic: \u001b[38;5;28mbool\u001b[39m \u001b[38;5;241m=\u001b[39m \u001b[38;5;28;01mFalse\u001b[39;00m) \u001b[38;5;241m-\u001b[39m\u001b[38;5;241m>\u001b[39m th\u001b[38;5;241m.\u001b[39mTensor:\n\u001b[1;32m    672\u001b[0m \u001b[38;5;250m    \u001b[39m\u001b[38;5;124;03m\"\"\"\u001b[39;00m\n\u001b[1;32m    673\u001b[0m \u001b[38;5;124;03m    Get the action according to the policy for a given observation.\u001b[39;00m\n\u001b[1;32m    674\u001b[0m \n\u001b[0;32m   (...)\u001b[0m\n\u001b[1;32m    677\u001b[0m \u001b[38;5;124;03m    :return: Taken action according to the policy\u001b[39;00m\n\u001b[1;32m    678\u001b[0m \u001b[38;5;124;03m    \"\"\"\u001b[39;00m\n\u001b[0;32m--> 679\u001b[0m     \u001b[38;5;28;01mreturn\u001b[39;00m \u001b[38;5;28;43mself\u001b[39;49m\u001b[38;5;241;43m.\u001b[39;49m\u001b[43mget_distribution\u001b[49m\u001b[43m(\u001b[49m\u001b[43mobservation\u001b[49m\u001b[43m)\u001b[49m\u001b[38;5;241m.\u001b[39mget_actions(deterministic\u001b[38;5;241m=\u001b[39mdeterministic)\n",
      "File \u001b[0;32m~/miniconda3/envs/both/lib/python3.9/site-packages/stable_baselines3/common/policies.py:714\u001b[0m, in \u001b[0;36mActorCriticPolicy.get_distribution\u001b[0;34m(self, obs)\u001b[0m\n\u001b[1;32m    712\u001b[0m features \u001b[38;5;241m=\u001b[39m \u001b[38;5;28msuper\u001b[39m()\u001b[38;5;241m.\u001b[39mextract_features(obs, \u001b[38;5;28mself\u001b[39m\u001b[38;5;241m.\u001b[39mpi_features_extractor)\n\u001b[1;32m    713\u001b[0m latent_pi \u001b[38;5;241m=\u001b[39m \u001b[38;5;28mself\u001b[39m\u001b[38;5;241m.\u001b[39mmlp_extractor\u001b[38;5;241m.\u001b[39mforward_actor(features)\n\u001b[0;32m--> 714\u001b[0m \u001b[38;5;28;01mreturn\u001b[39;00m \u001b[38;5;28;43mself\u001b[39;49m\u001b[38;5;241;43m.\u001b[39;49m\u001b[43m_get_action_dist_from_latent\u001b[49m\u001b[43m(\u001b[49m\u001b[43mlatent_pi\u001b[49m\u001b[43m)\u001b[49m\n",
      "File \u001b[0;32m~/miniconda3/envs/both/lib/python3.9/site-packages/stable_baselines3/common/policies.py:655\u001b[0m, in \u001b[0;36mActorCriticPolicy._get_action_dist_from_latent\u001b[0;34m(self, latent_pi)\u001b[0m\n\u001b[1;32m    647\u001b[0m \u001b[38;5;250m\u001b[39m\u001b[38;5;124;03m\"\"\"\u001b[39;00m\n\u001b[1;32m    648\u001b[0m \u001b[38;5;124;03mRetrieve action distribution given the latent codes.\u001b[39;00m\n\u001b[1;32m    649\u001b[0m \n\u001b[1;32m    650\u001b[0m \u001b[38;5;124;03m:param latent_pi: Latent code for the actor\u001b[39;00m\n\u001b[1;32m    651\u001b[0m \u001b[38;5;124;03m:return: Action distribution\u001b[39;00m\n\u001b[1;32m    652\u001b[0m \u001b[38;5;124;03m\"\"\"\u001b[39;00m\n\u001b[1;32m    653\u001b[0m mean_actions \u001b[38;5;241m=\u001b[39m \u001b[38;5;28mself\u001b[39m\u001b[38;5;241m.\u001b[39maction_net(latent_pi)\n\u001b[0;32m--> 655\u001b[0m \u001b[38;5;28;01mif\u001b[39;00m \u001b[38;5;28;43misinstance\u001b[39;49m\u001b[43m(\u001b[49m\u001b[38;5;28;43mself\u001b[39;49m\u001b[38;5;241;43m.\u001b[39;49m\u001b[43maction_dist\u001b[49m\u001b[43m,\u001b[49m\u001b[43m \u001b[49m\u001b[43mDiagGaussianDistribution\u001b[49m\u001b[43m)\u001b[49m:\n\u001b[1;32m    656\u001b[0m     \u001b[38;5;28;01mreturn\u001b[39;00m \u001b[38;5;28mself\u001b[39m\u001b[38;5;241m.\u001b[39maction_dist\u001b[38;5;241m.\u001b[39mproba_distribution(mean_actions, \u001b[38;5;28mself\u001b[39m\u001b[38;5;241m.\u001b[39mlog_std)\n\u001b[1;32m    657\u001b[0m \u001b[38;5;28;01melif\u001b[39;00m \u001b[38;5;28misinstance\u001b[39m(\u001b[38;5;28mself\u001b[39m\u001b[38;5;241m.\u001b[39maction_dist, CategoricalDistribution):\n\u001b[1;32m    658\u001b[0m     \u001b[38;5;66;03m# Here mean_actions are the logits before the softmax\u001b[39;00m\n",
      "File \u001b[0;32m~/miniconda3/envs/both/lib/python3.9/abc.py:119\u001b[0m, in \u001b[0;36mABCMeta.__instancecheck__\u001b[0;34m(cls, instance)\u001b[0m\n\u001b[1;32m    117\u001b[0m \u001b[38;5;28;01mdef\u001b[39;00m \u001b[38;5;21m__instancecheck__\u001b[39m(\u001b[38;5;28mcls\u001b[39m, instance):\n\u001b[1;32m    118\u001b[0m \u001b[38;5;250m    \u001b[39m\u001b[38;5;124;03m\"\"\"Override for isinstance(instance, cls).\"\"\"\u001b[39;00m\n\u001b[0;32m--> 119\u001b[0m     \u001b[38;5;28;01mreturn\u001b[39;00m \u001b[43m_abc_instancecheck\u001b[49m(\u001b[38;5;28mcls\u001b[39m, instance)\n",
      "\u001b[0;31mKeyboardInterrupt\u001b[0m: "
     ]
    }
   ],
   "source": [
    "rweard, std, alle = eval_agent(agent, env,1000)"
   ]
  },
  {
   "cell_type": "code",
   "execution_count": null,
   "id": "44b572f7",
   "metadata": {},
   "outputs": [],
   "source": [
    "rweard"
   ]
  },
  {
   "cell_type": "code",
   "execution_count": null,
   "id": "49d134c5",
   "metadata": {},
   "outputs": [],
   "source": [
    "std"
   ]
  },
  {
   "cell_type": "code",
   "execution_count": null,
   "id": "c93f3cf4",
   "metadata": {},
   "outputs": [],
   "source": []
  },
  {
   "cell_type": "code",
   "execution_count": null,
   "id": "2028ca83",
   "metadata": {},
   "outputs": [],
   "source": [
    "agents_dir = 'RLmodels/MountainCarContinuous-v0/PPO_tuned_OG'\n",
    "plt.savefig('agent_performance_plot.png', bbox_inches='tight'\n",
    "agent_names=[]\n",
    "rewards = []\n",
    "std_values = []\n",
    "all_values = []\n",
    "\n",
    "for agent_name in os.listdir(agents_dir):\n",
    "    print(agent_name)\n",
    "    agent = PPO.load(os.path.join(agents_dir, agent_name))\n",
    "    reward, std, all_values_single = eval_agent(agent, env, 100)\n",
    "    print(reward, std)\n",
    "    rewards.append(reward)\n",
    "    std_values.append(std)\n",
    "    all_values.append(all_values_single)\n",
    "    "
   ]
  },
  {
   "cell_type": "code",
   "execution_count": 139,
   "id": "60fd0f96",
   "metadata": {},
   "outputs": [
    {
     "name": "stdout",
     "output_type": "stream",
     "text": [
      "observation space: Box([-1.2  -0.07], [0.6  0.07], (2,), float32)\n",
      "observation space: Box([-1.2  -0.07], [0.6  0.07], (2,), float32)\n",
      "observation space: Box([-1.2  -0.07], [0.6  0.07], (2,), float32)\n",
      "observation space: Box([-1.2  -0.07], [0.6  0.07], (2,), float32)\n",
      "observation space: Box([-1.2  -0.07], [0.6  0.07], (2,), float32)\n",
      "observation space: Box([-1.2  -0.07], [0.6  0.07], (2,), float32)\n",
      "observation space: Box([-1.2  -0.07], [0.6  0.07], (2,), float32)\n",
      "observation space: Box([-1.2  -0.07], [0.6  0.07], (2,), float32)\n",
      "observation space: Box([-1.2  -0.07], [0.6  0.07], (2,), float32)\n",
      "observation space: Box([-1.2  -0.07], [0.6  0.07], (2,), float32)\n"
     ]
    },
    {
     "ename": "NameError",
     "evalue": "name 'all_agents_data' is not defined",
     "output_type": "error",
     "traceback": [
      "\u001b[0;31m---------------------------------------------------------------------------\u001b[0m",
      "\u001b[0;31mNameError\u001b[0m                                 Traceback (most recent call last)",
      "Cell \u001b[0;32mIn[139], line 14\u001b[0m\n\u001b[1;32m     11\u001b[0m ax1\u001b[38;5;241m.\u001b[39mset_title(\u001b[38;5;124m'\u001b[39m\u001b[38;5;124mOverall Performance Box Plot\u001b[39m\u001b[38;5;124m'\u001b[39m)\n\u001b[1;32m     13\u001b[0m \u001b[38;5;66;03m# Extract rewards data for all agents together\u001b[39;00m\n\u001b[0;32m---> 14\u001b[0m all_rewards_data \u001b[38;5;241m=\u001b[39m [data[\u001b[38;5;124m'\u001b[39m\u001b[38;5;124mrewards\u001b[39m\u001b[38;5;124m'\u001b[39m] \u001b[38;5;28;01mfor\u001b[39;00m data \u001b[38;5;129;01min\u001b[39;00m \u001b[43mall_agents_data\u001b[49m]\n\u001b[1;32m     16\u001b[0m \u001b[38;5;66;03m# Create a box plot for all agents\u001b[39;00m\n\u001b[1;32m     17\u001b[0m ax1\u001b[38;5;241m.\u001b[39mboxplot(all_rewards_data)\n",
      "\u001b[0;31mNameError\u001b[0m: name 'all_agents_data' is not defined"
     ]
    },
    {
     "data": {
      "image/png": "[encoded data removed]",
      "text/plain": [
       "<Figure size 640x480 with 1 Axes>"
      ]
     },
     "metadata": {},
     "output_type": "display_data"
    }
   ],
   "source": [
    "agents_data = []\n",
    "\n",
    "for agent_name in os.listdir(agents_dir):\n",
    "    agent = PPO.load(os.path.join(agents_dir, agent_name))\n",
    "    reward, std, all_values_single = eval_agent(agent, env, 100)\n",
    "    \n",
    "    agents_data.append({'name': agent_name, 'reward': reward, 'std': std, 'rewards': all_values_single})\n",
    "\n",
    "# Create a figure and axis for the overall box plot\n",
    "fig1, ax1 = plt.subplots()\n",
    "ax1.set_title('Overall Performance Box Plot')\n",
    "\n",
    "# Extract rewards data for all agents together\n",
    "all_rewards_data = [data['rewards'] for data in agents_data]\n",
    "\n",
    "# Create a box plot for all agents\n",
    "ax1.boxplot(all_rewards_data)\n",
    "ax1.set_xticklabels([data['name'] for data in agents_data], rotation=45, ha=\"right\")\n",
    "\n",
    "plt.show()\n",
    "\n",
    "# Create individual box plots for each agent\n",
    "for agent_data in agents_data:\n",
    "    fig, ax = plt.subplots()\n",
    "    ax.set_title(f'Performance Box Plot - {agent_data[\"name\"]}')\n",
    "    ax.boxplot(agent_data['rewards'])\n",
    "    plt.show()"
   ]
  },
  {
   "cell_type": "code",
   "execution_count": null,
   "id": "129f4df8",
   "metadata": {},
   "outputs": [
    {
     "name": "stdout",
     "output_type": "stream",
     "text": [
      "observation space: Box([-1.2  -0.07], [0.6  0.07], (2,), float32)\n",
      "observation space: Box([-1.2  -0.07], [0.6  0.07], (2,), float32)\n",
      "observation space: Box([-1.2  -0.07], [0.6  0.07], (2,), float32)\n",
      "observation space: Box([-1.2  -0.07], [0.6  0.07], (2,), float32)\n",
      "observation space: Box([-1.2  -0.07], [0.6  0.07], (2,), float32)\n",
      "observation space: Box([-1.2  -0.07], [0.6  0.07], (2,), float32)\n",
      "observation space: Box([-1.2  -0.07], [0.6  0.07], (2,), float32)\n",
      "observation space: Box([-1.2  -0.07], [0.6  0.07], (2,), float32)\n",
      "observation space: Box([-1.2  -0.07], [0.6  0.07], (2,), float32)\n"
     ]
    }
   ],
   "source": [
    "agents_data = []\n",
    "agents_dir = 'RLmodels/MountainCarContinuous-v0/PPO_tuned_OG'\n",
    "for agent_name in os.listdir(agents_dir):\n",
    "    agent = PPO.load(os.path.join(agents_dir, agent_name))\n",
    "    reward, std, all_values_single = eval_agent(agent, env, 200)\n",
    "    \n",
    "    agents_data.append({'name': agent_name, 'reward': reward, 'std': std, 'rewards': all_values_single})\n",
    "\n",
    "\n",
    "# Create a figure and axis for the overall box plot\n",
    "fig1, ax1 = plt.subplots()\n",
    "ax1.set_title('Overall Performance Box Plot')\n",
    "\n",
    "# Extract rewards data for all agents together\n",
    "all_rewards_data = [data['rewards'] for data in agents_data]\n",
    "\n",
    "# Create a box plot for all agents\n",
    "ax1.boxplot(all_rewards_data)\n",
    "ax1.set_xticklabels([data['name'] for data in agents_data], rotation=45, ha=\"right\")\n",
    "\n",
    "plt.show()\n",
    "\n",
    "# Create individual box plots for each agent\n",
    "for agent_data in agents_data:\n",
    "    fig, ax = plt.subplots()\n",
    "    ax.set_title(f'Performance Box Plot - {agent_data[\"name\"]}')\n",
    "    ax.boxplot(agent_data['rewards'])\n",
    "    plt.show()"
   ]
  },
  {
   "cell_type": "code",
   "execution_count": 9,
   "id": "37b97c8d",
   "metadata": {},
   "outputs": [
    {
     "data": {
      "image/png": "[encoded data removed]",
      "text/plain": [
       "<Figure size 640x480 with 1 Axes>"
      ]
     },
     "metadata": {},
     "output_type": "display_data"
    }
   ],
   "source": [
    "# Create a figure and axis\n",
    "fig, ax = plt.subplots()\n",
    "ax.set_title('PPO Evaluations')\n",
    "\n",
    "for agent_data in agents_data:\n",
    "    rewards = agent_data['rewards']\n",
    "    mean_reward = np.mean(rewards)\n",
    "    std_reward = np.std(rewards)\n",
    "    \n",
    "    # Plot individual data points\n",
    "    ax.scatter([agent_data['name']] * len(rewards), rewards, color='lightblue', alpha=0.5)\n",
    "    \n",
    "    # Plot the mean reward as a red line\n",
    "    ax.plot([agent_data['name']], [mean_reward], marker='o', markersize=5, color='orange')\n",
    "    \n",
    "    # Plot error bars for the standard deviation\n",
    "    ax.errorbar([agent_data['name']], [mean_reward], yerr=std_reward, color='orange')\n",
    "\n",
    "# Set x-axis ticks and labels\n",
    "ax.set_xticks(range(len(agents_data)))\n",
    "ax.set_xticklabels([data['name'][:-4] for data in agents_data], rotation=45, ha=\"right\")\n",
    "\n",
    "# Add a legend outside the loop\n",
    "ax.legend(['Episode Reward','Mean Reward (std)'], loc='lower left')\n",
    "plt.savefig('PPO Evaluations Rewards of 200 Episodes.png', bbox_inches='tight')\n",
    "plt.show()"
   ]
  },
  {
   "cell_type": "code",
   "execution_count": 168,
   "id": "b1dc41fe",
   "metadata": {},
   "outputs": [
    {
     "name": "stdout",
     "output_type": "stream",
     "text": [
      "observation space: Box([-1.2  -0.07], [0.6  0.07], (2,), float32)\n",
      "observation space: Box([-1.2  -0.07], [0.6  0.07], (2,), float32)\n",
      "observation space: Box([-1.2  -0.07], [0.6  0.07], (2,), float32)\n",
      "observation space: Box([-1.2  -0.07], [0.6  0.07], (2,), float32)\n",
      "observation space: Box([-1.2  -0.07], [0.6  0.07], (2,), float32)\n",
      "observation space: Box([-1.2  -0.07], [0.6  0.07], (2,), float32)\n",
      "observation space: Box([-1.2  -0.07], [0.6  0.07], (2,), float32)\n",
      "observation space: Box([-1.2  -0.07], [0.6  0.07], (2,), float32)\n",
      "observation space: Box([-1.2  -0.07], [0.6  0.07], (2,), float32)\n",
      "observation space: Box([-1.2  -0.07], [0.6  0.07], (2,), float32)\n"
     ]
    }
   ],
   "source": [
    "agents_dir = 'RLmodels/MountainCarContinuous-v0/SAC_tuned_OG'\n",
    "agent_names=[]\n",
    "rewards = []\n",
    "std_values = []\n",
    "all_values = []\n",
    "agents_data =[]\n",
    "for agent_name in os.listdir(agents_dir):\n",
    "    agent = SAC.load(os.path.join(agents_dir, agent_name))\n",
    "    reward, std, all_values_single = eval_agent(agent, env, 200)\n",
    "    \n",
    "    agents_data.append({'name': agent_name, 'reward': reward, 'std': std, 'rewards': all_values_single})"
   ]
  },
  {
   "cell_type": "code",
   "execution_count": 169,
   "id": "1701cab3",
   "metadata": {},
   "outputs": [
    {
     "data": {
      "text/plain": [
       "<Figure size 640x480 with 0 Axes>"
      ]
     },
     "metadata": {},
     "output_type": "display_data"
    },
    {
     "data": {
      "image/png": "[encoded data removed]",
      "text/plain": [
       "<Figure size 640x480 with 1 Axes>"
      ]
     },
     "metadata": {},
     "output_type": "display_data"
    }
   ],
   "source": [
    "# Create a figure and axis\n",
    "plt.clf()\n",
    "fig, ax = plt.subplots()\n",
    "ax.set_title('SAC Evaluations')\n",
    "\n",
    "for agent_data in agents_data:\n",
    "    rewards = agent_data['rewards']\n",
    "    mean_reward = np.mean(rewards)\n",
    "    std_reward = np.std(rewards)\n",
    "    \n",
    "    # Plot individual data points\n",
    "    ax.scatter([agent_data['name']] * len(rewards), rewards, color='lightblue', alpha=0.5)\n",
    "    \n",
    "    # Plot the mean reward as a red line\n",
    "    ax.plot([agent_data['name']], [mean_reward], marker='o', markersize=5, color='orange')\n",
    "    \n",
    "    # Plot error bars for the standard deviation\n",
    "    ax.errorbar([agent_data['name']], [mean_reward], yerr=std_reward, color='orange')\n",
    "\n",
    "# Set x-axis ticks and labels\n",
    "ax.set_xticks(range(len(agents_data)))\n",
    "ax.set_xticklabels([data['name'][:-4] for data in agents_data], rotation=45, ha=\"right\")\n",
    "\n",
    "# Add a legend outside the loop\n",
    "ax.legend(['Episode Reward','Mean Reward (std)'], loc='lower left')\n",
    "plt.savefig('SAC Evaluations Rewards of 200 Episodes.png')\n",
    "plt.show()"
   ]
  },
  {
   "cell_type": "code",
   "execution_count": null,
   "id": "04ab959f",
   "metadata": {},
   "outputs": [],
   "source": []
  }
 ],
 "metadata": {
  "kernelspec": {
   "display_name": "Python 3 (ipykernel)",
   "language": "python",
   "name": "python3"
  },
  "language_info": {
   "codemirror_mode": {
    "name": "ipython",
    "version": 3
   },
   "file_extension": ".py",
   "mimetype": "text/x-python",
   "name": "python",
   "nbconvert_exporter": "python",
   "pygments_lexer": "ipython3",
   "version": "3.9.16"
  }
 },
 "nbformat": 4,
 "nbformat_minor": 5
}
